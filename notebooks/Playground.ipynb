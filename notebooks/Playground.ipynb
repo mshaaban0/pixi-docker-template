{
 "cells": [
  {
   "cell_type": "code",
   "execution_count": 2,
   "id": "e62d43f3-185f-4c31-b2e8-27d33423c088",
   "metadata": {},
   "outputs": [
    {
     "name": "stdout",
     "output_type": "stream",
     "text": [
      "Hello Matrix\n"
     ]
    }
   ],
   "source": [
    "print(\"Hello Matrix\")"
   ]
  }
 ],
 "metadata": {
  "kernelspec": {
   "display_name": "Python 3 (ipykernel)",
   "language": "python",
   "name": "python3"
  },
  "language_info": {
   "codemirror_mode": {
    "name": "ipython",
    "version": 3
   },
   "file_extension": ".py",
   "mimetype": "text/x-python",
   "name": "python",
   "nbconvert_exporter": "python",
   "pygments_lexer": "ipython3",
   "version": "3.12.5"
  }
 },
 "nbformat": 4,
 "nbformat_minor": 5
}
